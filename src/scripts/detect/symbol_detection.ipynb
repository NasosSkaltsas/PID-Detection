{
 "cells": [
  {
   "cell_type": "code",
   "execution_count": null,
   "id": "eafe276a",
   "metadata": {},
   "outputs": [
    {
     "name": "stdout",
     "output_type": "stream",
     "text": [
      "✅ Saved annotated image to: C:\\Users\\Administrator\\Desktop\\digitization-pid\\app\\outputs\\detections\\test2_annotated.png\n",
      "✅ Saved detections CSV to:  C:\\Users\\Administrator\\Desktop\\digitization-pid\\app\\outputs\\detections\\test2_detections.csv\n"
     ]
    }
   ],
   "source": [
    "import sys\n",
    "sys.path.append('..')\n",
    "from functions.global_functions.config_load import load_config\n",
    "from functions.yolo_functions.detect_objects import detect_objects\n",
    "from ultralytics import YOLO\n",
    "\n",
    "cfg = load_config()\n",
    "image_path = str(cfg['IMAGE_PATH'])\n",
    "detections_path = str(cfg['DETECTIONS_DIR'])\n",
    "model= YOLO(str(cfg['MODEL_PATH']))  \n",
    "\n",
    "df_det = detect_objects(image_path,model, detections_path)"
   ]
  }
 ],
 "metadata": {
  "kernelspec": {
   "display_name": ".venv",
   "language": "python",
   "name": "python3"
  },
  "language_info": {
   "codemirror_mode": {
    "name": "ipython",
    "version": 3
   },
   "file_extension": ".py",
   "mimetype": "text/x-python",
   "name": "python",
   "nbconvert_exporter": "python",
   "pygments_lexer": "ipython3",
   "version": "3.13.7"
  }
 },
 "nbformat": 4,
 "nbformat_minor": 5
}
