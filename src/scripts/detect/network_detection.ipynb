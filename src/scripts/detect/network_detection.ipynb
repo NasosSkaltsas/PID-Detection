{
 "cells": [
  {
   "cell_type": "code",
   "execution_count": 1,
   "id": "c7ee4c77",
   "metadata": {},
   "outputs": [],
   "source": [
    "import sys\n",
    "sys.path.append('..')\n",
    "from functions.network_functions.filter_edges import prune_long_diagonals,prune_overlapping_edges,prune_nodes_with_multi_edges\n",
    "from functions.network_functions.create_network import create_delaunay_graph,draw_graph_on_image\n",
    "from functions.global_functions.config_load import load_config\n",
    "\n",
    "cfg = load_config()\n",
    "image_path = str(cfg['IMAGE_PATH'])\n",
    "\n",
    "\n",
    "G = create_delaunay_graph( pipeline_id=1,)\n",
    "prune_long_diagonals(G, threshold=64, axis_tol=1.0)\n",
    "prune_overlapping_edges(G, axis_tol=5, overlap_tol=0.1, len_tol=0.1)\n",
    "prune_nodes_with_multi_edges(G, angle_tol_deg=5.0, len_tol=1e-9)\n",
    "draw_graph_on_image(G, background=image_path, show_labels=True,)\n"
   ]
  }
 ],
 "metadata": {
  "kernelspec": {
   "display_name": ".venv",
   "language": "python",
   "name": "python3"
  },
  "language_info": {
   "codemirror_mode": {
    "name": "ipython",
    "version": 3
   },
   "file_extension": ".py",
   "mimetype": "text/x-python",
   "name": "python",
   "nbconvert_exporter": "python",
   "pygments_lexer": "ipython3",
   "version": "3.13.7"
  }
 },
 "nbformat": 4,
 "nbformat_minor": 5
}
