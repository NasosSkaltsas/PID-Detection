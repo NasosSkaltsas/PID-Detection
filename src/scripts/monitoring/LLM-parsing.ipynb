{
 "cells": [
  {
   "cell_type": "code",
   "execution_count": null,
   "id": "3c319e78",
   "metadata": {},
   "outputs": [],
   "source": [
    "from google import genai\n",
    "import os\n",
    "from dotenv import load_dotenv\n",
    "import json\n",
    "from pathlib import Path\n",
    "load_dotenv()\n",
    "client = genai.Client(api_key=os.getenv('GOOGLEAI_API_KEY'))"
   ]
  },
  {
   "cell_type": "code",
   "execution_count": null,
   "id": "1d961d1b",
   "metadata": {},
   "outputs": [],
   "source": [
    "prompt = f\"\"\"\n",
    "You are a PID system diagnostics assistant.\n",
    "\n",
    "Components of the PID system (they are connected with pipes):\n",
    "{json.dumps(components)}\n",
    "Network/connection of components of the PID system:\n",
    "{json.dumps(path_edges)}\n",
    "Anomalies detected:\n",
    "{json.dumps(anomalies)}\n",
    "\n",
    "Task:\n",
    "1. Summarize the system: list components and connections.\n",
    "2. Describe the anomaly detected.\n",
    "3. Explain potential root causes using nearby components. (max 2 reasons)\n",
    "4. Recommend inspection or remediation steps. (max 2 recommendations, keep it simple and clear)\n",
    "\n",
    "Return only plain text.\n",
    "\"\"\""
   ]
  },
  {
   "cell_type": "code",
   "execution_count": null,
   "id": "c69ec1cf",
   "metadata": {},
   "outputs": [],
   "source": [
    "# Generate diagnosis\n",
    "response = client.models.generate_content(\n",
    "    model='gemini-2.5-flash',\n",
    "    contents=prompt\n",
    ")\n",
    "(outputs_dir / \"diagnosis.md\").write_text(f\"# Diagnosis\\n\\n{response.text}\\n\", encoding=\"utf-8\")\n",
    "print(response.text)\n"
   ]
  }
 ],
 "metadata": {
  "language_info": {
   "name": "python"
  }
 },
 "nbformat": 4,
 "nbformat_minor": 5
}
