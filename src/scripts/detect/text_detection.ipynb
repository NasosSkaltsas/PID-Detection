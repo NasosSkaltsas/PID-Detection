{
 "cells": [
  {
   "cell_type": "code",
   "execution_count": 1,
   "id": "788ab395",
   "metadata": {},
   "outputs": [
    {
     "name": "stdout",
     "output_type": "stream",
     "text": [
      "✅ OCR-enhanced detections saved to: C:\\Users\\Administrator\\Desktop\\digitization-pid\\app\\outputs\\detections\\test2_detections.csv\n"
     ]
    }
   ],
   "source": [
    "import sys\n",
    "sys.path.append('..')\n",
    "from functions.OCR_functions.OCR_help import run_component_ocr\n",
    "from functions.global_functions.config_load import load_config\n",
    "\n",
    "cfg = load_config()\n",
    "image_path = str(cfg['IMAGE_PATH'])\n",
    "detections_path = str(cfg['DETECTIONS_DIR'])\n",
    "\n",
    "df_updated = run_component_ocr(detections_path, image_path)"
   ]
  }
 ],
 "metadata": {
  "kernelspec": {
   "display_name": ".venv",
   "language": "python",
   "name": "python3"
  },
  "language_info": {
   "codemirror_mode": {
    "name": "ipython",
    "version": 3
   },
   "file_extension": ".py",
   "mimetype": "text/x-python",
   "name": "python",
   "nbconvert_exporter": "python",
   "pygments_lexer": "ipython3",
   "version": "3.13.7"
  }
 },
 "nbformat": 4,
 "nbformat_minor": 5
}
