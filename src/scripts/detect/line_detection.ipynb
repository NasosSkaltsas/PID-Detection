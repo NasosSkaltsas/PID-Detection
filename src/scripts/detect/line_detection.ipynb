{
 "cells": [
  {
   "cell_type": "code",
   "execution_count": 1,
   "id": "e7991b22",
   "metadata": {},
   "outputs": [],
   "source": [
    "import sys\n",
    "sys.path.append('..')\n",
    "from functions.line_functions.clean_img import process_image_cleaning,thicken_edges\n",
    "from functions.global_functions.config_load import load_config\n",
    "from functions.line_functions.hough__transform import detect_lines_hough\n",
    "from functions.line_functions.assign_pipelines import assign_pipelines,draw_pipelines\n",
    "\n",
    "cfg = load_config()\n",
    "image_path = str(cfg['IMAGE_PATH'])\n",
    "detections_path = str(cfg['DETECTIONS_DIR'])\n",
    "\n",
    "\n",
    "clean_img = process_image_cleaning(image_path, detections_path)\n",
    "thick_img = thicken_edges(clean_img)\n",
    "df_lines = detect_lines_hough(thick_img)\n",
    "out = assign_pipelines(df_lines, detections_path,image_path, radius=70, coord_tol=0,close_tol=10)\n",
    "draw_pipelines(df_lines,out,image_path)"
   ]
  }
 ],
 "metadata": {
  "kernelspec": {
   "display_name": ".venv",
   "language": "python",
   "name": "python3"
  },
  "language_info": {
   "codemirror_mode": {
    "name": "ipython",
    "version": 3
   },
   "file_extension": ".py",
   "mimetype": "text/x-python",
   "name": "python",
   "nbconvert_exporter": "python",
   "pygments_lexer": "ipython3",
   "version": "3.13.7"
  }
 },
 "nbformat": 4,
 "nbformat_minor": 5
}
